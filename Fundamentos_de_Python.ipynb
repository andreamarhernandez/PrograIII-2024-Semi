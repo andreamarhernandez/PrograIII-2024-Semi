{
  "nbformat": 4,
  "nbformat_minor": 0,
  "metadata": {
    "colab": {
      "provenance": [],
      "authorship_tag": "ABX9TyOhZ4k/bPERJJKRi1VWFpoY",
      "include_colab_link": true
    },
    "kernelspec": {
      "name": "python3",
      "display_name": "Python 3"
    },
    "language_info": {
      "name": "python"
    }
  },
  "cells": [
    {
      "cell_type": "markdown",
      "metadata": {
        "id": "view-in-github",
        "colab_type": "text"
      },
      "source": [
        "<a href=\"https://colab.research.google.com/github/andreamarhernandez/PrograIII-2024-Semi/blob/main/Fundamentos_de_Python.ipynb\" target=\"_parent\"><img src=\"https://colab.research.google.com/assets/colab-badge.svg\" alt=\"Open In Colab\"/></a>"
      ]
    },
    {
      "cell_type": "code",
      "execution_count": null,
      "metadata": {
        "colab": {
          "base_uri": "https://localhost:8080/"
        },
        "id": "meVnpyMQ4YzK",
        "outputId": "6f177028-cc6a-4c60-cd8e-8e835e3c7d33"
      },
      "outputs": [
        {
          "output_type": "stream",
          "name": "stdout",
          "text": [
            "Hola Mundo\n",
            "Hola Andrea Hernandez , inicial:  A a\n"
          ]
        }
      ],
      "source": [
        "print(\"Hola Mundo\")\n",
        "nombre = \"Andrea Hernandez\"\n",
        "\n",
        "print(\"Hola\", nombre, \", inicial: \", nombre[0], nombre[5])"
      ]
    },
    {
      "cell_type": "markdown",
      "source": [
        "EJERCICIO crear un programa en python que sume dos numeros"
      ],
      "metadata": {
        "id": "PjdmauB0-AnL"
      }
    },
    {
      "cell_type": "code",
      "source": [
        "num1 = 5\n",
        "num2 = 9.5\n",
        "resp = num1 + num2\n",
        "print(\"la suma es:\" , resp)"
      ],
      "metadata": {
        "colab": {
          "base_uri": "https://localhost:8080/"
        },
        "id": "HV-sWSJy-PgS",
        "outputId": "428bba69-1d7f-4545-a7a3-18fc5c4422ff"
      },
      "execution_count": 2,
      "outputs": [
        {
          "output_type": "stream",
          "name": "stdout",
          "text": [
            "la suma es: 14.5\n"
          ]
        }
      ]
    },
    {
      "cell_type": "markdown",
      "source": [
        "EJERCICIO crear un programa en python que sume dos numeros introducidos por el usuario"
      ],
      "metadata": {
        "id": "K57smJ0W_Mdc"
      }
    },
    {
      "cell_type": "code",
      "source": [
        "print(\"Num 1\")\n",
        "num1 = int(input())\n",
        "\n",
        "print(\"Num 2\")\n",
        "num2 = float(input())\n",
        "\n",
        "resp = num1 + num2\n",
        "print(\"La suma es:\", resp)"
      ],
      "metadata": {
        "colab": {
          "base_uri": "https://localhost:8080/"
        },
        "id": "VSC7qcy3_aMC",
        "outputId": "0357993c-f7d2-4f08-e7a2-63b13776fb19"
      },
      "execution_count": 3,
      "outputs": [
        {
          "output_type": "stream",
          "name": "stdout",
          "text": [
            "Num 1\n",
            "5\n",
            "Num 2\n",
            "5\n",
            "La suma es: 10.0\n"
          ]
        }
      ]
    },
    {
      "cell_type": "code",
      "source": [
        "#Tipos de Datos\n",
        "num1 = 5\n",
        "num2 = 5.9\n",
        "nombre = \"Andrea Hernandez\"\n",
        "print(nombre[0:4], nombre[:4], nombre[-1], nombre[5:len(nombre)])\n",
        "\n",
        "estado = True\n",
        "print(estado)\n",
        "\n",
        "print(type(nombre), type(num1), type(num2), type(estado))"
      ],
      "metadata": {
        "colab": {
          "base_uri": "https://localhost:8080/"
        },
        "id": "wOMXV-xMCKaV",
        "outputId": "afadd0c0-0597-4775-bb20-d88c3447c2a1"
      },
      "execution_count": null,
      "outputs": [
        {
          "output_type": "stream",
          "name": "stdout",
          "text": [
            "Andr Andr z a Hernandez\n",
            "True\n",
            "<class 'str'> <class 'int'> <class 'float'> <class 'bool'>\n"
          ]
        }
      ]
    },
    {
      "cell_type": "markdown",
      "source": [
        "EJERCICIO, cree un programa en python que lea un numero y determine si es par o impar."
      ],
      "metadata": {
        "id": "axgUREc_EfX3"
      }
    },
    {
      "cell_type": "code",
      "source": [
        "num = int(input(\"Ingrese un numero:\"))\n",
        "if num % 2 == 0:\n",
        "  print(\"El numero es par\", num)\n",
        "else:\n",
        "  print(\"El numero es impar\")"
      ],
      "metadata": {
        "colab": {
          "base_uri": "https://localhost:8080/"
        },
        "id": "oQ33d0KZEurh",
        "outputId": "bb5ee547-d276-44ef-eb25-d7d74f95105e"
      },
      "execution_count": null,
      "outputs": [
        {
          "output_type": "stream",
          "name": "stdout",
          "text": [
            "Ingrese un numero:5\n",
            "El numero es impar\n"
          ]
        }
      ]
    },
    {
      "cell_type": "markdown",
      "source": [
        "TAREA(MIERCOLES)\n",
        "1.Convertir grados Farenheits a Celsius"
      ],
      "metadata": {
        "id": "8p2jIox9JGrQ"
      }
    },
    {
      "cell_type": "code",
      "source": [
        "def farenheit_a_celsius(f):\n",
        "  return (f-32)/1.8\n",
        "\n",
        "def celsius_a_farenheit(c):\n",
        "  return(c*1.8)+32\n",
        "\n",
        "f=float(input(\"Por favor, ingresa los datos Fahrenheit:\"))\n",
        "c=farenheit_a_celsius(f)\n",
        "print(f\"Los grados Farenheit son {c} grados Celsius\")\n",
        "\n",
        "c=float(input(\"Por favor, ingresa los grados Celsius:\"))\n",
        "f=celsius_a_farenheit(c)\n",
        "print(f\"Los {c} grados Celsius son {f} grados Farenheit\")\n"
      ],
      "metadata": {
        "id": "K5FNncj1JRKf",
        "outputId": "06684f02-cc3e-421d-cb99-ef1211173923",
        "colab": {
          "base_uri": "https://localhost:8080/"
        }
      },
      "execution_count": null,
      "outputs": [
        {
          "output_type": "stream",
          "name": "stdout",
          "text": [
            "Por favor, ingresa los datos Fahrenheit:78\n",
            "Los grados Farenheit son 25.555555555555554 grados Celsius\n",
            "Por favor, ingresa los grados Celsius: 25\n",
            "Los 25.0 grados Celsius son 77.0 grados Farenheit\n"
          ]
        }
      ]
    },
    {
      "cell_type": "markdown",
      "source": [
        "2.Convertir grados Celsius y Farenheit a Kelvin"
      ],
      "metadata": {
        "id": "Q_MT7UmAUKuL"
      }
    },
    {
      "cell_type": "code",
      "source": [
        "def celsius_a_kelvin(celsius):\n",
        "  return celsius+273.15\n",
        "\n",
        "def farenheit_a_kelvin(farenheit):\n",
        "  return (farenheit+459.67)*5/9\n",
        "\n",
        "temperatura_celsius=30\n",
        "temperatura_farenheit=86\n",
        "\n",
        "print(f\"{temperatura_celsius} °C en Kelvin: {celsius_a_kelvin(temperatura_celsius)}K\")\n",
        "print(f\"{temperatura_farenheit} °F en Kelvin: {farenheit_a_kelvin(temperatura_farenheit)} K\")"
      ],
      "metadata": {
        "id": "MR0DhRcUUX7h",
        "outputId": "594e9619-c75e-40dd-b9fe-e89650d65691",
        "colab": {
          "base_uri": "https://localhost:8080/"
        }
      },
      "execution_count": null,
      "outputs": [
        {
          "output_type": "stream",
          "name": "stdout",
          "text": [
            "30 °C en Kelvin: 303.15K\n",
            "86 °F en Kelvin: 303.15000000000003 K\n"
          ]
        }
      ]
    },
    {
      "cell_type": "markdown",
      "source": [
        "elevar un numero al cuadrado"
      ],
      "metadata": {
        "id": "pUL155vqg0bG"
      }
    },
    {
      "cell_type": "code",
      "source": [
        "def elevarCuadrado(base=0, exponente=2):\n",
        "  return base**exponente\n",
        "\n",
        "print(elevarCuadrado(5,3))"
      ],
      "metadata": {
        "id": "UB1u2uXJg78A",
        "outputId": "1fec4e83-9622-4e3e-f21c-9be209deef8f",
        "colab": {
          "base_uri": "https://localhost:8080/"
        }
      },
      "execution_count": null,
      "outputs": [
        {
          "output_type": "stream",
          "name": "stdout",
          "text": [
            "125\n"
          ]
        }
      ]
    },
    {
      "cell_type": "code",
      "source": [
        "num = int(input(\"Ingrese un numero:\"))\n",
        "print(\"Cuadrado: \", elevarCuadrado(num, 3))"
      ],
      "metadata": {
        "id": "yZuwM26nhuKM",
        "outputId": "e57103d1-9258-4230-fed2-29b46b36f74f",
        "colab": {
          "base_uri": "https://localhost:8080/"
        }
      },
      "execution_count": null,
      "outputs": [
        {
          "output_type": "stream",
          "name": "stdout",
          "text": [
            "Ingrese un numero:4\n",
            "Cuadrado:  64\n"
          ]
        }
      ]
    },
    {
      "cell_type": "markdown",
      "source": [
        "USANDO FUNCIONES LAMBDA"
      ],
      "metadata": {
        "id": "HYVqj8Qrjlmx"
      }
    },
    {
      "cell_type": "code",
      "source": [
        "elevarCuadradoLambda = lambda base, exponente: base**exponente"
      ],
      "metadata": {
        "id": "Bcm_P7DFjn9m"
      },
      "execution_count": null,
      "outputs": []
    },
    {
      "cell_type": "code",
      "source": [
        "valor = int(input(\"Num:\"))\n",
        "print(\"Cuadrado: \", elevarCuadradoLambda(valor, 2))"
      ],
      "metadata": {
        "id": "igPFkxw-lRsp",
        "outputId": "39f9e656-a8de-4b4d-942b-2476bdc54557",
        "colab": {
          "base_uri": "https://localhost:8080/"
        }
      },
      "execution_count": null,
      "outputs": [
        {
          "output_type": "stream",
          "name": "stdout",
          "text": [
            "Num:3\n",
            "Cuadrado:  9\n"
          ]
        }
      ]
    },
    {
      "cell_type": "code",
      "source": [
        "serie = [5,4,3,2,6,7]\n",
        "resp = map(lambda x:x**2, serie)\n",
        "print(list(resp))\n",
        "\n",
        "resp2 = map(elevarCuadrado, serie)\n",
        "print(list(resp2))"
      ],
      "metadata": {
        "id": "CsQlXu3ymDD4",
        "outputId": "201bbf9a-2558-4f04-de50-ad8a3091291d",
        "colab": {
          "base_uri": "https://localhost:8080/"
        }
      },
      "execution_count": null,
      "outputs": [
        {
          "output_type": "stream",
          "name": "stdout",
          "text": [
            "[25, 16, 9, 4, 36, 49]\n",
            "[25, 16, 9, 4, 36, 49]\n"
          ]
        }
      ]
    },
    {
      "cell_type": "markdown",
      "source": [
        "ESTRUCTURAS DE CONTROL\n"
      ],
      "metadata": {
        "id": "EpygoMPIGFlC"
      }
    },
    {
      "cell_type": "markdown",
      "source": [
        "IF"
      ],
      "metadata": {
        "id": "hmowu_xQGJa_"
      }
    },
    {
      "cell_type": "markdown",
      "source": [
        "EJERCICIO:SOLICITAR LA EDAD Y REALIZAR LA CLASIFICACION"
      ],
      "metadata": {
        "id": "bIcIDR3RGgLd"
      }
    },
    {
      "cell_type": "code",
      "source": [
        "edad = int(input(\"Edad: \"))\n",
        "if edad>17:\n",
        "  print(\"Bienvenido al mundo de las responsabilidades\")"
      ],
      "metadata": {
        "id": "vvW1En4bGpVw",
        "outputId": "d45eb1e5-ba41-42c5-c0e8-64ab57cf245f",
        "colab": {
          "base_uri": "https://localhost:8080/"
        }
      },
      "execution_count": null,
      "outputs": [
        {
          "output_type": "stream",
          "name": "stdout",
          "text": [
            "Edad: 18\n",
            "Bienvenido al mundo de las responsabilidades\n"
          ]
        }
      ]
    },
    {
      "cell_type": "code",
      "source": [
        "continuar = \"s\"\n",
        "while continuar == \"s\":\n",
        "  edad = int(input(\"Edad: \"))\n",
        "  if (edad<0):\n",
        "     print(\"Edad incorrecta\")\n",
        "  elif edad<=2:\n",
        "     print(\"Eres un bebe\")\n",
        "  elif edad<12:\n",
        "     print(\"Eres un niño\")\n",
        "  elif edad<18:\n",
        "     print(\"Eres un adolescente\")\n",
        "  elif edad<65:\n",
        "     print(\"Eres un adulto\")\n",
        "  elif edad<85:\n",
        "     print(\"Eres un adulto mayor\")\n",
        "  else:\n",
        "   print(\"Larga vida\")\n",
        "  continuar = input(\"Continuar s, sino cualquier tecla: \")"
      ],
      "metadata": {
        "id": "p5ZwmP-AHcZF",
        "outputId": "87b31003-6186-46cf-9971-826019acf6ae",
        "colab": {
          "base_uri": "https://localhost:8080/"
        }
      },
      "execution_count": 3,
      "outputs": [
        {
          "name": "stdout",
          "output_type": "stream",
          "text": [
            "Edad: 95\n",
            "Larga vida\n",
            "Continuar s, sino cualquier tecla: e\n"
          ]
        }
      ]
    },
    {
      "cell_type": "markdown",
      "source": [
        "positivo o negativo"
      ],
      "metadata": {
        "id": "R6uByrY1KKcV"
      }
    },
    {
      "cell_type": "code",
      "source": [
        "numero = int(input(\"Ingresa un numero: \"))\n",
        "if numero>0:\n",
        "  print(\"Positivo\")\n",
        "else:\n",
        "  print(\"Negativo\")"
      ],
      "metadata": {
        "id": "5yQaFusgKKB8",
        "outputId": "034d180c-76a0-4944-fdb0-84cc3979ca0a",
        "colab": {
          "base_uri": "https://localhost:8080/"
        }
      },
      "execution_count": null,
      "outputs": [
        {
          "output_type": "stream",
          "name": "stdout",
          "text": [
            "Ingresa un numero: -5\n",
            "Negativo\n"
          ]
        }
      ]
    },
    {
      "cell_type": "markdown",
      "source": [
        "Solicitar tabla de multiplicar"
      ],
      "metadata": {
        "id": "A0a8VXx3Otal"
      }
    },
    {
      "cell_type": "code",
      "source": [
        "continuar=\"s\"\n",
        "while continuar==\"s\":\n",
        "  tabla = int(input(\"Tabla: \"))\n",
        "  for i in range(1,11):\n",
        "    print(tabla, \"x\", i, \"=\", tabla*i)\n",
        "  continuar = input(\"continuar s, sino cualquier tecla: \")"
      ],
      "metadata": {
        "id": "n_XoAqgVOxF_",
        "outputId": "97333087-571e-400e-9107-e1454de862bc",
        "colab": {
          "base_uri": "https://localhost:8080/"
        }
      },
      "execution_count": null,
      "outputs": [
        {
          "name": "stdout",
          "output_type": "stream",
          "text": [
            "Tabla: 34\n",
            "34 x 1 = 34\n",
            "34 x 2 = 68\n",
            "34 x 3 = 102\n",
            "34 x 4 = 136\n",
            "34 x 5 = 170\n",
            "34 x 6 = 204\n",
            "34 x 7 = 238\n",
            "34 x 8 = 272\n",
            "34 x 9 = 306\n",
            "34 x 10 = 340\n",
            "continuar s, sino cualquier tecla: e\n"
          ]
        }
      ]
    },
    {
      "cell_type": "markdown",
      "source": [
        "• 1Calcular sobre el sueldo las deducciones por ley ISSS (3%), AFP(6.25%), ISR(Según tabla) e imprima el total deducciones y\n",
        "sueldo neto."
      ],
      "metadata": {
        "id": "rLYU2ibnRYPh"
      }
    },
    {
      "cell_type": "code",
      "source": [
        "import math\n",
        "isss = 0.03\n",
        "afp = 0.0625\n",
        "tabla_isr = {\"desde\":[0.01, 472.01, 895.25, 2038.11], \"hasta\":[472, 895.24, 2038.10, math.inf], \"porcentaje\":[0.00, 0.10, 0.20, 0.30], \"cuota_fija\":[0.00, 17.67, 60.00, 288.57]}\n",
        "frecuencias = {\"mensual\":1,\"quincenal\":2,\"semanal\":4}\n",
        "\n",
        "def calcular_isr(sueldo,frecuencia):\n",
        "    sueldo *= 1-(afp+isss)\n",
        "    for i in range(len(tabla_isr[\"desde\"])):\n",
        "        if tabla_isr[\"desde\"][i]/frecuencias[frecuencia]<=sueldo:\n",
        "          if tabla_isr[\"hasta\"][i]/frecuencias[frecuencia]>=sueldo:\n",
        "            isr = calcular_isr(sueldoBruto,frecuenciaPago)\n",
        "    print(\"El ISR a pagar es de: \",isr)\n",
        "sueldoNeto = calcularSueldo(sueldoBruto,isr,afp,isss)\n",
        "print(f\"Debes pagar los siguientes impuestos de forma {frecuenciaPago}:\",\n",
        "        \"\\nISSS: \",round(isss*sueldoBruto,2),\n",
        "        \"\\nAFP:\",round(afp*sueldoBruto,2),\n",
        "        \"\\nISR:\",round(isr,2)\n",
        "        )\n",
        "print(\"Tu sueldo neto es de: \",round(sueldoNeto,2))\n"
      ],
      "metadata": {
        "colab": {
          "base_uri": "https://localhost:8080/",
          "height": 211
        },
        "id": "oZwa8k_gRZgf",
        "outputId": "2d3b109d-caa5-48e4-d516-54093f778feb"
      },
      "execution_count": 11,
      "outputs": [
        {
          "output_type": "error",
          "ename": "NameError",
          "evalue": "name 'calcularSueldo' is not defined",
          "traceback": [
            "\u001b[0;31m---------------------------------------------------------------------------\u001b[0m",
            "\u001b[0;31mNameError\u001b[0m                                 Traceback (most recent call last)",
            "\u001b[0;32m<ipython-input-11-b8d850f0e069>\u001b[0m in \u001b[0;36m<cell line: 14>\u001b[0;34m()\u001b[0m\n\u001b[1;32m     12\u001b[0m             \u001b[0misr\u001b[0m \u001b[0;34m=\u001b[0m \u001b[0mcalcular_isr\u001b[0m\u001b[0;34m(\u001b[0m\u001b[0msueldoBruto\u001b[0m\u001b[0;34m,\u001b[0m\u001b[0mfrecuenciaPago\u001b[0m\u001b[0;34m)\u001b[0m\u001b[0;34m\u001b[0m\u001b[0;34m\u001b[0m\u001b[0m\n\u001b[1;32m     13\u001b[0m     \u001b[0mprint\u001b[0m\u001b[0;34m(\u001b[0m\u001b[0;34m\"El ISR a pagar es de: \"\u001b[0m\u001b[0;34m,\u001b[0m\u001b[0misr\u001b[0m\u001b[0;34m)\u001b[0m\u001b[0;34m\u001b[0m\u001b[0;34m\u001b[0m\u001b[0m\n\u001b[0;32m---> 14\u001b[0;31m \u001b[0msueldoNeto\u001b[0m \u001b[0;34m=\u001b[0m \u001b[0mcalcularSueldo\u001b[0m\u001b[0;34m(\u001b[0m\u001b[0msueldoBruto\u001b[0m\u001b[0;34m,\u001b[0m\u001b[0misr\u001b[0m\u001b[0;34m,\u001b[0m\u001b[0mafp\u001b[0m\u001b[0;34m,\u001b[0m\u001b[0misss\u001b[0m\u001b[0;34m)\u001b[0m\u001b[0;34m\u001b[0m\u001b[0;34m\u001b[0m\u001b[0m\n\u001b[0m\u001b[1;32m     15\u001b[0m print(f\"Debes pagar los siguientes impuestos de forma {frecuenciaPago}:\",\n\u001b[1;32m     16\u001b[0m         \u001b[0;34m\"\\nISSS: \"\u001b[0m\u001b[0;34m,\u001b[0m\u001b[0mround\u001b[0m\u001b[0;34m(\u001b[0m\u001b[0misss\u001b[0m\u001b[0;34m*\u001b[0m\u001b[0msueldoBruto\u001b[0m\u001b[0;34m,\u001b[0m\u001b[0;36m2\u001b[0m\u001b[0;34m)\u001b[0m\u001b[0;34m,\u001b[0m\u001b[0;34m\u001b[0m\u001b[0;34m\u001b[0m\u001b[0m\n",
            "\u001b[0;31mNameError\u001b[0m: name 'calcularSueldo' is not defined"
          ]
        }
      ]
    },
    {
      "cell_type": "markdown",
      "source": [
        "• 2Calcular el valor a pagar según el número de metros consumidos de agua potable.\n"
      ],
      "metadata": {
        "id": "764_KdBd77ne"
      }
    },
    {
      "cell_type": "code",
      "source": [
        "def calcularPago(consumo):\n",
        "    if consumo <= 18:\n",
        "        return 6\n",
        "    elif consumo <= 28:\n",
        "        exceso = consumo - 18\n",
        "        return 6 + (exceso * 0.45)\n",
        "    else:\n",
        "        exceso1 = 28 - 18\n",
        "        exceso2 = consumo - 28\n",
        "        return 6 + (exceso1 * 0.45) + (exceso2 * 0.65)\n",
        "\n",
        "consumo = float(input(\"Introduce consumo de metros cúbicos de agua: \"))\n",
        "total_a_pagar = calcularPago(consumo)\n",
        "print(f\"Total a pagar: ${total_a_pagar:.2f}\")"
      ],
      "metadata": {
        "colab": {
          "base_uri": "https://localhost:8080/"
        },
        "id": "IKIiMUtB7oFd",
        "outputId": "5ec50171-e147-4cb4-dbf0-c77fd2cf426e"
      },
      "execution_count": null,
      "outputs": [
        {
          "output_type": "stream",
          "name": "stdout",
          "text": [
            "Introduce consumo de metros cúbicos de agua: 38\n",
            "Total a pagar: $17.00\n"
          ]
        }
      ]
    },
    {
      "cell_type": "markdown",
      "source": [
        "• 3Desarrolle la tabla de meses acumulados a n meses. Si puede encontrar la fórmula matemática para evitar ciclos."
      ],
      "metadata": {
        "id": "_UiJPmX28LK8"
      }
    },
    {
      "cell_type": "code",
      "source": [
        "def sumaAcumulada(n):\n",
        "      return (n * (n + 1))//2\n",
        "\n",
        "mes = int(input(\"Introduca el número de meses: \"))\n",
        "acumulado = sumaAcumulada(mes)\n",
        "print(f\"El valor acumulado en {mes} meses es:{acumulado}\")"
      ],
      "metadata": {
        "colab": {
          "base_uri": "https://localhost:8080/"
        },
        "id": "AMGdOdF28hPD",
        "outputId": "4665c498-475f-4e6e-c688-660fe05907bf"
      },
      "execution_count": null,
      "outputs": [
        {
          "output_type": "stream",
          "name": "stdout",
          "text": [
            "Introduca el número de meses:10\n",
            "El valor acumulado en 10 meses es:55\n"
          ]
        }
      ]
    },
    {
      "cell_type": "markdown",
      "source": [
        "• 4Conversores: (40%)"
      ],
      "metadata": {
        "id": "eIJClPSM85_m"
      }
    },
    {
      "cell_type": "code",
      "source": [
        "conversor={\n",
        "\"Longitud\":{\"Metros\":1,\"Centímetros\":100,\"Milímetros\":1000,\"Micrómetros\":1000000,\"Nanómetros\":1000000000,\"Kilómetros\":1/1000,\"Millas\":1/1609,\"Pulgadas\":3.281*12,\"Pies\":3.281,\"Yardas\":3.281/3},\n",
        "\"Masa\":{\"Kilogramos\":1,\"Gramos\":1000,\"Miligramos\":10**3,\"Microgramos\":10**6,\"Libras\":2.20462,\"Onzas\":2.20462/16,\"Stones\":2.20462/14,\"Toneladas\":1/1000,\"Toneladas largas\":1/1016,\"Toneladas cortas\":2.20462/2000,},\n",
        "\"Almacenamiento\":{\"Bits\":1,\"Bytes\":8,\"Kilobytes\":8/1000,\"Megabytes\":8/10**6,\"Gigabytes\":8/10**9,\"Terabytes\":8/10**12,\"Kibibytes\":8/1024,\"Mebibytes\":8/1024**2,\"Gibibytes\":8/1024**3,\"Tebibytes\":8/1024**4},\n",
        "\"Tiempo\":{\"Microsegundos\":3600*10**6,\"Milisegundos\":3600*1000,\"Segundos\":3600,\"Minutos\":60,\"Horas\":1,\"Días\":1/24,\"Semanas\":1/(24*7),\"Meses\":1/(24*30),\"Años\":1/(24*365),\"Décadas\":1/(24*365*10),\"Siglos\":1/(24*365*100)},\n",
        "\"Volúmen\":{\"Litros\":1,\"Mililitros\":1000,\"Galones\":1/3.7854,\"Cuartos\":4/3.7854,\"Pintas\":8/3.7854,\"Tazas\":1000/240,\"Onzas\":128/3.7854,\"Cucharadas\":256/3.7854,\"Cucharaditas\":768/3.7854},\n",
        "\"Área\":{\"Km cuadrados\":1,\"Hectáreas\":100,\"Metros cuadrados\":10**6,\"Pies cuadrados\":10.764*10**6,\"Yardas cuadradas\":1.196*10**6,\"Acres\":247.105,\"Millas cuadradas\":0.386102,\"Pulgadas cuadradas\":1.55*10**9,\"Manzanas\":1.43083,\"Tareas\":1590.3307},\n",
        "}\n",
        "\n",
        "def mostrarMagnitudes():\n",
        "    print(\"Magnitudes disponibles:\")\n",
        "    for i in conversor.keys():\n",
        "        print(f\"-{i}\")\n",
        "\n",
        "def mostrarUnidades(magnitud):\n",
        "    print(f\"Unidades de {magnitud}:\")\n",
        "    for u in conversor[magnitud].keys():\n",
        "        print(f\"-{u}\")\n",
        "\n",
        "def obtenerUnidad(magnitud,tipo):\n",
        "    unidad = input(f\"Convertir {tipo}: \")\n",
        "    if unidad not in conversor[magnitud]:\n",
        "        print(f\"La unidad {unidad} no está disponible en {magnitud}\")\n",
        "        return obtenerUnidad(magnitud,tipo)\n",
        "    return unidad\n",
        "\n",
        "def obtenerMagnitud():\n",
        "    magnitud=input(\"Ingresa que quieres convertir: \")\n",
        "    if magnitud not in conversor.keys():\n",
        "        print(f\"La magnitud {magnitud} no está disponible\")\n",
        "        return obtenerMagnitud()\n",
        "    return magnitud\n",
        "\n",
        "def obtenerCantidad():\n",
        "    try :\n",
        "        cantidad = float(input(\"Cantidad:\"))\n",
        "    except:\n",
        "        print(\"Ingresa un numero\")\n",
        "        return obtenerCantidad()\n",
        "    return cantidad\n",
        "\n",
        "def convertir(magnitud,de,a,cantidad):\n",
        "    res=cantidad*conversor[magnitud][a]/conversor[magnitud][de]\n",
        "    print(f\"{cantidad} {de} equivalen  {res} {a}\")\n",
        "\n",
        "mostrarMagnitudes()\n",
        "magnitud = obtenerMagnitud()\n",
        "mostrarUnidades(magnitud)\n",
        "de = obtenerUnidad(magnitud,\"de\")\n",
        "a= obtenerUnidad(magnitud,\"a\")\n",
        "cantidad = obtenerCantidad()\n",
        "convertir(magnitud,de,a,cantidad)"
      ],
      "metadata": {
        "colab": {
          "base_uri": "https://localhost:8080/"
        },
        "id": "l0eUpulN_KYZ",
        "outputId": "fdc11584-4ab2-46fc-80d0-cb2e70a0d521"
      },
      "execution_count": 7,
      "outputs": [
        {
          "output_type": "stream",
          "name": "stdout",
          "text": [
            "Magnitudes disponibles:\n",
            "-Longitud\n",
            "-Masa\n",
            "-Almacenamiento\n",
            "-Tiempo\n",
            "-Volúmen\n",
            "-Área\n",
            "Ingresa que quieres convertir: Masa\n",
            "Unidades de Masa:\n",
            "-Kilogramos\n",
            "-Gramos\n",
            "-Miligramos\n",
            "-Microgramos\n",
            "-Libras\n",
            "-Onzas\n",
            "-Stones\n",
            "-Toneladas\n",
            "-Toneladas largas\n",
            "-Toneladas cortas\n",
            "Convertir de: Gramos\n",
            "Convertir a: Libras\n",
            "Cantidad:200\n",
            "200.0 Gramos equivalen  0.440924 Libras\n"
          ]
        }
      ]
    },
    {
      "cell_type": "markdown",
      "source": [
        "• 5Realizar un conversor propio, donde especifiqué el valor de conversión:"
      ],
      "metadata": {
        "id": "PvILSEGG-iPp"
      }
    },
    {
      "cell_type": "code",
      "source": [
        "conversor={\n",
        "\"Mandarinas\":{\"Mandarinas\":1,\"Bandejas\":1/4,\"Cajas\":1/150,\"Cargamentos\":1/20000},\n",
        "\"Huevos\":{\"Huevos\":1,\"Docenas\":1/12,\"Cartones\":1/30,\"Cajas\":1/180,\"Cargamentos\":1/60000},\n",
        "\"Leche\":{\"Cargamentos\":1,\"Cajas\":400,\"Cartones\":2000,\"Docenas\":5000,\"Leche\":60000}\n",
        "}\n",
        "def mostrarMagnitudes():\n",
        "    print(\"Elija una magnitud:\")\n",
        "    for i in conversor.keys():\n",
        "        print(f\"-{i}\")\n",
        "\n",
        "def mostrarUnidades(magnitud):\n",
        "    print(f\"Unidades de {magnitud}:\")\n",
        "    for u in conversor[magnitud].keys():\n",
        "        print(f\"-{u}\")\n",
        "\n",
        "def obtenerUnidad(magnitud,tipo):\n",
        "    unidad = input(f\"Convertir {tipo}: \")\n",
        "    if unidad not in conversor[magnitud]:\n",
        "        print(f\"La unidad {unidad} no está disponible en {magnitud}\")\n",
        "        return obtenerUnidad(magnitud,tipo)\n",
        "    return unidad\n",
        "\n",
        "def obtenerMagnitud():\n",
        "    magnitud=input(\"Que quieres convertir: \")\n",
        "    if magnitud not in conversor.keys():\n",
        "        print(f\"La magnitud {magnitud} no está disponible\")\n",
        "        return obtenerMagnitud()\n",
        "    return magnitud\n",
        "\n",
        "def obtener_cantidad():\n",
        "    try :\n",
        "        cantidad = float(input(\"Cantidad:\"))\n",
        "    except:\n",
        "        print(\"Ingresa un numero\")\n",
        "        return obtenerCantidad()\n",
        "    return cantidad\n",
        "\n",
        "def convertir(magnitud,de,a,cantidad):\n",
        "    resultado=cantidad*conversor[magnitud][a]//conversor[magnitud][de]\n",
        "    residuo=cantidad%(conversor[magnitud][de]/conversor[magnitud][a])\n",
        "    msg = f\"{cantidad} {de} equivalen a {resultado} {a}\"\n",
        "    if residuo >= 1:\n",
        "        msg += f\" y {residuo} {de}\"\n",
        "    print(msg)\n",
        "\n",
        "mostrarMagnitudes()\n",
        "magnitud = obtenerMagnitud()\n",
        "mostrarUnidades(magnitud)\n",
        "de = obtenerUnidad(magnitud,\"de\")\n",
        "a= obtenerUnidad(magnitud,\"a\")\n",
        "cantidad = obtenerCantidad()\n",
        "convertir(magnitud,de,a,cantidad)"
      ],
      "metadata": {
        "colab": {
          "base_uri": "https://localhost:8080/"
        },
        "id": "oobGEBBj-o3F",
        "outputId": "939201b4-bcc4-4f58-fb0f-7f7da5a4b88f"
      },
      "execution_count": null,
      "outputs": [
        {
          "output_type": "stream",
          "name": "stdout",
          "text": [
            "Elija una magnitud:\n",
            "-Mandarinas\n",
            "-Huevos\n",
            "-Leche\n",
            "Que quieres convertir: Mandarinas\n",
            "Unidades de Mandarinas:\n",
            "-Mandarinas\n",
            "-Bandejas\n",
            "-Cajas\n",
            "-Cargamentos\n",
            "Convertir de: Mandarinas\n",
            "Convertir a: Cajas\n",
            "Cantidad:289\n",
            "289.0 Mandarinas equivalen a 1.0 Cajas y 139.0 Mandarinas\n"
          ]
        }
      ]
    },
    {
      "cell_type": "markdown",
      "source": [
        "EJERCICIOS 3 (CLASE)"
      ],
      "metadata": {
        "id": "0e-6gZZZbb8e"
      }
    },
    {
      "cell_type": "code",
      "source": [
        "def calcularVarianza(numeros):\n",
        "\n",
        "  n = len(numeros)\n",
        "  media = sum(numeros) / n\n",
        "  sumaCuadradosDif = sum((x - media)**2 for x in numeros)\n",
        "  varianza = sumaCuadradosDif / n\n",
        "\n",
        "  return varianza\n",
        "\n",
        "numerosStr = input(\"Ingresa los números: \")\n",
        "numeros = [float(num) for num in numerosStr.split()]\n",
        "varianza = calcularVarianza(numeros)\n",
        "print(\"La varianza es:\", varianza)"
      ],
      "metadata": {
        "id": "Gsnr2VFBm62e",
        "outputId": "a709e276-cc79-4bf9-e0be-821405832df5",
        "colab": {
          "base_uri": "https://localhost:8080/",
          "height": 349
        }
      },
      "execution_count": null,
      "outputs": [
        {
          "name": "stdout",
          "output_type": "stream",
          "text": [
            "Ingresa los números: 1,1,2,3,4\n"
          ]
        },
        {
          "output_type": "error",
          "ename": "ValueError",
          "evalue": "could not convert string to float: '1,1,2,3,4'",
          "traceback": [
            "\u001b[0;31m---------------------------------------------------------------------------\u001b[0m",
            "\u001b[0;31mValueError\u001b[0m                                Traceback (most recent call last)",
            "\u001b[0;32m<ipython-input-29-277244738603>\u001b[0m in \u001b[0;36m<cell line: 11>\u001b[0;34m()\u001b[0m\n\u001b[1;32m      9\u001b[0m \u001b[0;34m\u001b[0m\u001b[0m\n\u001b[1;32m     10\u001b[0m \u001b[0mnumerosStr\u001b[0m \u001b[0;34m=\u001b[0m \u001b[0minput\u001b[0m\u001b[0;34m(\u001b[0m\u001b[0;34m\"Ingresa los números: \"\u001b[0m\u001b[0;34m)\u001b[0m\u001b[0;34m\u001b[0m\u001b[0;34m\u001b[0m\u001b[0m\n\u001b[0;32m---> 11\u001b[0;31m \u001b[0mnumeros\u001b[0m \u001b[0;34m=\u001b[0m \u001b[0;34m[\u001b[0m\u001b[0mfloat\u001b[0m\u001b[0;34m(\u001b[0m\u001b[0mnum\u001b[0m\u001b[0;34m)\u001b[0m \u001b[0;32mfor\u001b[0m \u001b[0mnum\u001b[0m \u001b[0;32min\u001b[0m \u001b[0mnumerosStr\u001b[0m\u001b[0;34m.\u001b[0m\u001b[0msplit\u001b[0m\u001b[0;34m(\u001b[0m\u001b[0;34m)\u001b[0m\u001b[0;34m]\u001b[0m\u001b[0;34m\u001b[0m\u001b[0;34m\u001b[0m\u001b[0m\n\u001b[0m\u001b[1;32m     12\u001b[0m \u001b[0mvarianza\u001b[0m \u001b[0;34m=\u001b[0m \u001b[0mcalcularVarianza\u001b[0m\u001b[0;34m(\u001b[0m\u001b[0mnumeros\u001b[0m\u001b[0;34m)\u001b[0m\u001b[0;34m\u001b[0m\u001b[0;34m\u001b[0m\u001b[0m\n\u001b[1;32m     13\u001b[0m \u001b[0mprint\u001b[0m\u001b[0;34m(\u001b[0m\u001b[0;34m\"La varianza es:\"\u001b[0m\u001b[0;34m,\u001b[0m \u001b[0mvarianza\u001b[0m\u001b[0;34m)\u001b[0m\u001b[0;34m\u001b[0m\u001b[0;34m\u001b[0m\u001b[0m\n",
            "\u001b[0;32m<ipython-input-29-277244738603>\u001b[0m in \u001b[0;36m<listcomp>\u001b[0;34m(.0)\u001b[0m\n\u001b[1;32m      9\u001b[0m \u001b[0;34m\u001b[0m\u001b[0m\n\u001b[1;32m     10\u001b[0m \u001b[0mnumerosStr\u001b[0m \u001b[0;34m=\u001b[0m \u001b[0minput\u001b[0m\u001b[0;34m(\u001b[0m\u001b[0;34m\"Ingresa los números: \"\u001b[0m\u001b[0;34m)\u001b[0m\u001b[0;34m\u001b[0m\u001b[0;34m\u001b[0m\u001b[0m\n\u001b[0;32m---> 11\u001b[0;31m \u001b[0mnumeros\u001b[0m \u001b[0;34m=\u001b[0m \u001b[0;34m[\u001b[0m\u001b[0mfloat\u001b[0m\u001b[0;34m(\u001b[0m\u001b[0mnum\u001b[0m\u001b[0;34m)\u001b[0m \u001b[0;32mfor\u001b[0m \u001b[0mnum\u001b[0m \u001b[0;32min\u001b[0m \u001b[0mnumerosStr\u001b[0m\u001b[0;34m.\u001b[0m\u001b[0msplit\u001b[0m\u001b[0;34m(\u001b[0m\u001b[0;34m)\u001b[0m\u001b[0;34m]\u001b[0m\u001b[0;34m\u001b[0m\u001b[0;34m\u001b[0m\u001b[0m\n\u001b[0m\u001b[1;32m     12\u001b[0m \u001b[0mvarianza\u001b[0m \u001b[0;34m=\u001b[0m \u001b[0mcalcularVarianza\u001b[0m\u001b[0;34m(\u001b[0m\u001b[0mnumeros\u001b[0m\u001b[0;34m)\u001b[0m\u001b[0;34m\u001b[0m\u001b[0;34m\u001b[0m\u001b[0m\n\u001b[1;32m     13\u001b[0m \u001b[0mprint\u001b[0m\u001b[0;34m(\u001b[0m\u001b[0;34m\"La varianza es:\"\u001b[0m\u001b[0;34m,\u001b[0m \u001b[0mvarianza\u001b[0m\u001b[0;34m)\u001b[0m\u001b[0;34m\u001b[0m\u001b[0;34m\u001b[0m\u001b[0m\n",
            "\u001b[0;31mValueError\u001b[0m: could not convert string to float: '1,1,2,3,4'"
          ]
        }
      ]
    },
    {
      "cell_type": "code",
      "source": [
        "from collections import Counter\n",
        "\n",
        "def calcularFrecuencias(numeros):\n",
        "    conteo = Counter(numeros)\n",
        "    return conteo\n",
        "\n",
        "numeros_str = input(\"Ingresa números separados por espacios:\")\n",
        "numeros = [int(num) for num in numeros_str.split()]\n",
        "frecuencias = calcularFrecuencias(numeros)\n",
        "\n",
        "print(\"Frecuencias de los números:\")\n",
        "for numero, frecuencia in frecuencias.items():\n",
        "    print(f\"{numero}: {frecuencia} veces\")"
      ],
      "metadata": {
        "id": "XJ8NYiV9oE8X",
        "outputId": "a05ff006-4641-4519-afc4-c8e1c7cfb2ee",
        "colab": {
          "base_uri": "https://localhost:8080/"
        }
      },
      "execution_count": null,
      "outputs": [
        {
          "output_type": "stream",
          "name": "stdout",
          "text": [
            "Ingrese los números separados por espacios: 2 2 3 4 5 6 6\n",
            "Frecuencias de los números:\n",
            "2: 2 veces\n",
            "3: 1 veces\n",
            "4: 1 veces\n",
            "5: 1 veces\n",
            "6: 2 veces\n"
          ]
        }
      ]
    },
    {
      "cell_type": "code",
      "source": [
        "def esPalindromo(palabra):\n",
        "  palabra = palabra.lower()\n",
        "  palabra = ''.join(char for char in palabra if char.isalnum())\n",
        "  palabraInvertida = palabra[:-1]\n",
        "  return palabra == palabraInvertida\n",
        "\n",
        "palabra = input(\"Ingresa una palabra: \")\n",
        "if esPalindromo(palabra):\n",
        "  print(\"La palabra\", palabra, \"es palíndroma.\")\n",
        "else:\n",
        "  print(\"La palabra\", palabra, \"no es palíndroma.\")"
      ],
      "metadata": {
        "id": "3zK77Npjo4vV",
        "outputId": "9759c917-b7a4-4a71-c73c-1c4e1975493e",
        "colab": {
          "base_uri": "https://localhost:8080/"
        }
      },
      "execution_count": null,
      "outputs": [
        {
          "output_type": "stream",
          "name": "stdout",
          "text": [
            "Ingresa una palabra: roma\n",
            "La palabra roma no es palíndroma.\n"
          ]
        }
      ]
    }
  ]
}