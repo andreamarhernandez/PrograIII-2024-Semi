{
  "nbformat": 4,
  "nbformat_minor": 0,
  "metadata": {
    "colab": {
      "provenance": [],
      "authorship_tag": "ABX9TyOjwXSrVqM95xM1UvGAF6+N",
      "include_colab_link": true
    },
    "kernelspec": {
      "name": "python3",
      "display_name": "Python 3"
    },
    "language_info": {
      "name": "python"
    }
  },
  "cells": [
    {
      "cell_type": "markdown",
      "metadata": {
        "id": "view-in-github",
        "colab_type": "text"
      },
      "source": [
        "<a href=\"https://colab.research.google.com/github/andreamarhernandez/PrograIII-2024-Semi/blob/main/Fundamentos_de_Python.ipynb\" target=\"_parent\"><img src=\"https://colab.research.google.com/assets/colab-badge.svg\" alt=\"Open In Colab\"/></a>"
      ]
    },
    {
      "cell_type": "code",
      "execution_count": null,
      "metadata": {
        "colab": {
          "base_uri": "https://localhost:8080/"
        },
        "id": "meVnpyMQ4YzK",
        "outputId": "6f177028-cc6a-4c60-cd8e-8e835e3c7d33"
      },
      "outputs": [
        {
          "output_type": "stream",
          "name": "stdout",
          "text": [
            "Hola Mundo\n",
            "Hola Andrea Hernandez , inicial:  A a\n"
          ]
        }
      ],
      "source": [
        "print(\"Hola Mundo\")\n",
        "nombre = \"Andrea Hernandez\"\n",
        "\n",
        "print(\"Hola\", nombre, \", inicial: \", nombre[0], nombre[5])"
      ]
    },
    {
      "cell_type": "markdown",
      "source": [
        "EJERCICIO crear un programa en python que sume dos numeros"
      ],
      "metadata": {
        "id": "PjdmauB0-AnL"
      }
    },
    {
      "cell_type": "code",
      "source": [
        "num1 = 5\n",
        "num2 = 9.5\n",
        "resp = num1 + num2\n",
        "print(\"la suma es:\" , resp)"
      ],
      "metadata": {
        "colab": {
          "base_uri": "https://localhost:8080/"
        },
        "id": "HV-sWSJy-PgS",
        "outputId": "8098b8e6-43e9-499c-a43c-edeca1a0156a"
      },
      "execution_count": null,
      "outputs": [
        {
          "output_type": "stream",
          "name": "stdout",
          "text": [
            "la suma es: 14.5\n"
          ]
        }
      ]
    },
    {
      "cell_type": "markdown",
      "source": [
        "EJERCICIO crear un programa en python que sume dos numeros introducidos por el usuario"
      ],
      "metadata": {
        "id": "K57smJ0W_Mdc"
      }
    },
    {
      "cell_type": "code",
      "source": [
        "print(\"Num 1\")\n",
        "num1 = int(input())\n",
        "\n",
        "print(\"Num 2\")\n",
        "num2 = float(input())\n",
        "\n",
        "resp = num1 + num2\n",
        "print(\"La suma es:\", resp)"
      ],
      "metadata": {
        "colab": {
          "base_uri": "https://localhost:8080/"
        },
        "id": "VSC7qcy3_aMC",
        "outputId": "d81da1e6-99b6-4163-e37e-dfb988656ba5"
      },
      "execution_count": null,
      "outputs": [
        {
          "output_type": "stream",
          "name": "stdout",
          "text": [
            "Num 1\n",
            "5\n",
            "Num 2\n",
            "4.5\n",
            "La suma es: 9.5\n"
          ]
        }
      ]
    },
    {
      "cell_type": "code",
      "source": [
        "#Tipos de Datos\n",
        "num1 = 5\n",
        "num2 = 5.9\n",
        "nombre = \"Andrea Hernandez\"\n",
        "print(nombre[0:4], nombre[:4], nombre[-1], nombre[5:len(nombre)])\n",
        "\n",
        "estado = True\n",
        "print(estado)\n",
        "\n",
        "print(type(nombre), type(num1), type(num2), type(estado))"
      ],
      "metadata": {
        "colab": {
          "base_uri": "https://localhost:8080/"
        },
        "id": "wOMXV-xMCKaV",
        "outputId": "afadd0c0-0597-4775-bb20-d88c3447c2a1"
      },
      "execution_count": null,
      "outputs": [
        {
          "output_type": "stream",
          "name": "stdout",
          "text": [
            "Andr Andr z a Hernandez\n",
            "True\n",
            "<class 'str'> <class 'int'> <class 'float'> <class 'bool'>\n"
          ]
        }
      ]
    },
    {
      "cell_type": "markdown",
      "source": [
        "EJERCICIO, cree un programa en python que lea un numero y determine si es par o impar."
      ],
      "metadata": {
        "id": "axgUREc_EfX3"
      }
    },
    {
      "cell_type": "code",
      "source": [
        "num = int(input(\"Ingrese un numero:\"))\n",
        "if num % 2 == 0:\n",
        "  print(\"El numero es par\", num)\n",
        "else:\n",
        "  print(\"El numero es impar\")"
      ],
      "metadata": {
        "colab": {
          "base_uri": "https://localhost:8080/"
        },
        "id": "oQ33d0KZEurh",
        "outputId": "bb5ee547-d276-44ef-eb25-d7d74f95105e"
      },
      "execution_count": null,
      "outputs": [
        {
          "output_type": "stream",
          "name": "stdout",
          "text": [
            "Ingrese un numero:5\n",
            "El numero es impar\n"
          ]
        }
      ]
    },
    {
      "cell_type": "markdown",
      "source": [
        "TAREA(MIERCOLES)\n",
        "1.Convertir grados Farenheits a Celsius"
      ],
      "metadata": {
        "id": "8p2jIox9JGrQ"
      }
    },
    {
      "cell_type": "code",
      "source": [
        "def farenheit_a_celsius(f):\n",
        "  return (f-32)/1.8\n",
        "\n",
        "def celsius_a_farenheit(c):\n",
        "  return(c*1.8)+32\n",
        "\n",
        "f=float(input(\"Por favor, ingresa los datos Fahrenheit:\"))\n",
        "c=farenheit_a_celsius(f)\n",
        "print(f\"Los grados Farenheit son {c} grados Celsius\")\n",
        "\n",
        "c=float(input(\"Por favor, ingresa los grados Celsius:\"))\n",
        "f=celsius_a_farenheit(c)\n",
        "print(f\"Los {c} grados Celsius son {f} grados Farenheit\")\n"
      ],
      "metadata": {
        "id": "K5FNncj1JRKf",
        "outputId": "06684f02-cc3e-421d-cb99-ef1211173923",
        "colab": {
          "base_uri": "https://localhost:8080/"
        }
      },
      "execution_count": null,
      "outputs": [
        {
          "output_type": "stream",
          "name": "stdout",
          "text": [
            "Por favor, ingresa los datos Fahrenheit:78\n",
            "Los grados Farenheit son 25.555555555555554 grados Celsius\n",
            "Por favor, ingresa los grados Celsius: 25\n",
            "Los 25.0 grados Celsius son 77.0 grados Farenheit\n"
          ]
        }
      ]
    },
    {
      "cell_type": "markdown",
      "source": [
        "2.Convertir grados Celsius y Farenheit a Kelvin"
      ],
      "metadata": {
        "id": "Q_MT7UmAUKuL"
      }
    },
    {
      "cell_type": "code",
      "source": [
        "def celsius_a_kelvin(celsius):\n",
        "  return celsius+273.15\n",
        "\n",
        "def farenheit_a_kelvin(farenheit):\n",
        "  return (farenheit+459.67)*5/9\n",
        "\n",
        "temperatura_celsius=30\n",
        "temperatura_farenheit=86\n",
        "\n",
        "print(f\"{temperatura_celsius} °C en Kelvin: {celsius_a_kelvin(temperatura_celsius)}K\")\n",
        "print(f\"{temperatura_farenheit} °F en Kelvin: {farenheit_a_kelvin(temperatura_farenheit)} K\")"
      ],
      "metadata": {
        "id": "MR0DhRcUUX7h",
        "outputId": "594e9619-c75e-40dd-b9fe-e89650d65691",
        "colab": {
          "base_uri": "https://localhost:8080/"
        }
      },
      "execution_count": null,
      "outputs": [
        {
          "output_type": "stream",
          "name": "stdout",
          "text": [
            "30 °C en Kelvin: 303.15K\n",
            "86 °F en Kelvin: 303.15000000000003 K\n"
          ]
        }
      ]
    },
    {
      "cell_type": "markdown",
      "source": [
        "elevar un numero al cuadrado"
      ],
      "metadata": {
        "id": "pUL155vqg0bG"
      }
    },
    {
      "cell_type": "code",
      "source": [
        "def elevarCuadrado(base=0, exponente=2):\n",
        "  return base**exponente\n",
        "\n",
        "print(elevarCuadrado(5,3))"
      ],
      "metadata": {
        "id": "UB1u2uXJg78A",
        "outputId": "1fec4e83-9622-4e3e-f21c-9be209deef8f",
        "colab": {
          "base_uri": "https://localhost:8080/"
        }
      },
      "execution_count": 2,
      "outputs": [
        {
          "output_type": "stream",
          "name": "stdout",
          "text": [
            "125\n"
          ]
        }
      ]
    },
    {
      "cell_type": "code",
      "source": [
        "num = int(input(\"Ingrese un numero:\"))\n",
        "print(\"Cuadrado: \", elevarCuadrado(num, 3))"
      ],
      "metadata": {
        "id": "yZuwM26nhuKM",
        "outputId": "e57103d1-9258-4230-fed2-29b46b36f74f",
        "colab": {
          "base_uri": "https://localhost:8080/"
        }
      },
      "execution_count": 3,
      "outputs": [
        {
          "output_type": "stream",
          "name": "stdout",
          "text": [
            "Ingrese un numero:4\n",
            "Cuadrado:  64\n"
          ]
        }
      ]
    },
    {
      "cell_type": "markdown",
      "source": [
        "USANDO FUNCIONES LAMBDA"
      ],
      "metadata": {
        "id": "HYVqj8Qrjlmx"
      }
    },
    {
      "cell_type": "code",
      "source": [
        "elevarCuadradoLambda = lambda base, exponente: base**exponente"
      ],
      "metadata": {
        "id": "Bcm_P7DFjn9m"
      },
      "execution_count": 11,
      "outputs": []
    },
    {
      "cell_type": "code",
      "source": [
        "valor = int(input(\"Num:\"))\n",
        "print(\"Cuadrado: \", elevarCuadradoLambda(valor, 2))"
      ],
      "metadata": {
        "id": "igPFkxw-lRsp",
        "outputId": "39f9e656-a8de-4b4d-942b-2476bdc54557",
        "colab": {
          "base_uri": "https://localhost:8080/"
        }
      },
      "execution_count": 13,
      "outputs": [
        {
          "output_type": "stream",
          "name": "stdout",
          "text": [
            "Num:3\n",
            "Cuadrado:  9\n"
          ]
        }
      ]
    },
    {
      "cell_type": "code",
      "source": [
        "serie = [5,4,3,2,6,7]\n",
        "resp = map(lambda x:x**2, serie)\n",
        "print(list(resp))\n",
        "\n",
        "resp2 = map(elevarCuadrado, serie)\n",
        "print(list(resp2))"
      ],
      "metadata": {
        "id": "CsQlXu3ymDD4",
        "outputId": "201bbf9a-2558-4f04-de50-ad8a3091291d",
        "colab": {
          "base_uri": "https://localhost:8080/"
        }
      },
      "execution_count": 14,
      "outputs": [
        {
          "output_type": "stream",
          "name": "stdout",
          "text": [
            "[25, 16, 9, 4, 36, 49]\n",
            "[25, 16, 9, 4, 36, 49]\n"
          ]
        }
      ]
    },
    {
      "cell_type": "markdown",
      "source": [
        "ESTRUCTURAS DE CONTROL\n"
      ],
      "metadata": {
        "id": "EpygoMPIGFlC"
      }
    },
    {
      "cell_type": "markdown",
      "source": [
        "IF"
      ],
      "metadata": {
        "id": "hmowu_xQGJa_"
      }
    },
    {
      "cell_type": "markdown",
      "source": [
        "EJERCICIO:SOLICITAR LA EDAD Y REALIZAR LA CLASIFICACION"
      ],
      "metadata": {
        "id": "bIcIDR3RGgLd"
      }
    },
    {
      "cell_type": "code",
      "source": [
        "edad = int(input(\"Edad: \"))\n",
        "if edad>17:\n",
        "  print(\"Bienvenido al mundo de las responsabilidades\")"
      ],
      "metadata": {
        "id": "vvW1En4bGpVw",
        "outputId": "d45eb1e5-ba41-42c5-c0e8-64ab57cf245f",
        "colab": {
          "base_uri": "https://localhost:8080/"
        }
      },
      "execution_count": null,
      "outputs": [
        {
          "output_type": "stream",
          "name": "stdout",
          "text": [
            "Edad: 18\n",
            "Bienvenido al mundo de las responsabilidades\n"
          ]
        }
      ]
    },
    {
      "cell_type": "code",
      "source": [
        "continuar = \"s\"\n",
        "while continuar == \"s\":\n",
        "  edad = int(input(\"Edad: \"))\n",
        "if (edad<0):\n",
        "  print(\"Edad incorrecta\")\n",
        "elif edad<=2:\n",
        "  print(\"Eres un bebe\")\n",
        "elif edad<12:\n",
        "  print(\"Eres un niño\")\n",
        "elif edad<18:\n",
        "  print(\"Eres un adolescente\")\n",
        "elif edad<65:\n",
        "  print(\"Eres un adulto\")\n",
        "elif edad<85:\n",
        "  print(\"Eres un adulto mayor\")\n",
        "else:\n",
        "  print(\"Larga vida\")\n",
        "continuar = input(\"Continuar s, sino cualquier tecla: \")"
      ],
      "metadata": {
        "id": "p5ZwmP-AHcZF",
        "outputId": "c17e2a2d-3ab1-451f-d897-cb6c53988f8c",
        "colab": {
          "base_uri": "https://localhost:8080/",
          "height": 373
        }
      },
      "execution_count": 10,
      "outputs": [
        {
          "name": "stdout",
          "output_type": "stream",
          "text": [
            "Edad: -2\n"
          ]
        },
        {
          "output_type": "error",
          "ename": "KeyboardInterrupt",
          "evalue": "Interrupted by user",
          "traceback": [
            "\u001b[0;31m---------------------------------------------------------------------------\u001b[0m",
            "\u001b[0;31mKeyboardInterrupt\u001b[0m                         Traceback (most recent call last)",
            "\u001b[0;32m<ipython-input-10-6a5ab332195a>\u001b[0m in \u001b[0;36m<cell line: 2>\u001b[0;34m()\u001b[0m\n\u001b[1;32m      1\u001b[0m \u001b[0mcontinuar\u001b[0m \u001b[0;34m=\u001b[0m \u001b[0;34m\"s\"\u001b[0m\u001b[0;34m\u001b[0m\u001b[0;34m\u001b[0m\u001b[0m\n\u001b[1;32m      2\u001b[0m \u001b[0;32mwhile\u001b[0m \u001b[0mcontinuar\u001b[0m \u001b[0;34m==\u001b[0m \u001b[0;34m\"s\"\u001b[0m\u001b[0;34m:\u001b[0m\u001b[0;34m\u001b[0m\u001b[0;34m\u001b[0m\u001b[0m\n\u001b[0;32m----> 3\u001b[0;31m   \u001b[0medad\u001b[0m \u001b[0;34m=\u001b[0m \u001b[0mint\u001b[0m\u001b[0;34m(\u001b[0m\u001b[0minput\u001b[0m\u001b[0;34m(\u001b[0m\u001b[0;34m\"Edad: \"\u001b[0m\u001b[0;34m)\u001b[0m\u001b[0;34m)\u001b[0m\u001b[0;34m\u001b[0m\u001b[0;34m\u001b[0m\u001b[0m\n\u001b[0m\u001b[1;32m      4\u001b[0m \u001b[0;32mif\u001b[0m \u001b[0;34m(\u001b[0m\u001b[0medad\u001b[0m\u001b[0;34m<\u001b[0m\u001b[0;36m0\u001b[0m\u001b[0;34m)\u001b[0m\u001b[0;34m:\u001b[0m\u001b[0;34m\u001b[0m\u001b[0;34m\u001b[0m\u001b[0m\n\u001b[1;32m      5\u001b[0m   \u001b[0mprint\u001b[0m\u001b[0;34m(\u001b[0m\u001b[0;34m\"Edad incorrecta\"\u001b[0m\u001b[0;34m)\u001b[0m\u001b[0;34m\u001b[0m\u001b[0;34m\u001b[0m\u001b[0m\n",
            "\u001b[0;32m/usr/local/lib/python3.10/dist-packages/ipykernel/kernelbase.py\u001b[0m in \u001b[0;36mraw_input\u001b[0;34m(self, prompt)\u001b[0m\n\u001b[1;32m    849\u001b[0m                 \u001b[0;34m\"raw_input was called, but this frontend does not support input requests.\"\u001b[0m\u001b[0;34m\u001b[0m\u001b[0;34m\u001b[0m\u001b[0m\n\u001b[1;32m    850\u001b[0m             )\n\u001b[0;32m--> 851\u001b[0;31m         return self._input_request(str(prompt),\n\u001b[0m\u001b[1;32m    852\u001b[0m             \u001b[0mself\u001b[0m\u001b[0;34m.\u001b[0m\u001b[0m_parent_ident\u001b[0m\u001b[0;34m,\u001b[0m\u001b[0;34m\u001b[0m\u001b[0;34m\u001b[0m\u001b[0m\n\u001b[1;32m    853\u001b[0m             \u001b[0mself\u001b[0m\u001b[0;34m.\u001b[0m\u001b[0m_parent_header\u001b[0m\u001b[0;34m,\u001b[0m\u001b[0;34m\u001b[0m\u001b[0;34m\u001b[0m\u001b[0m\n",
            "\u001b[0;32m/usr/local/lib/python3.10/dist-packages/ipykernel/kernelbase.py\u001b[0m in \u001b[0;36m_input_request\u001b[0;34m(self, prompt, ident, parent, password)\u001b[0m\n\u001b[1;32m    893\u001b[0m             \u001b[0;32mexcept\u001b[0m \u001b[0mKeyboardInterrupt\u001b[0m\u001b[0;34m:\u001b[0m\u001b[0;34m\u001b[0m\u001b[0;34m\u001b[0m\u001b[0m\n\u001b[1;32m    894\u001b[0m                 \u001b[0;31m# re-raise KeyboardInterrupt, to truncate traceback\u001b[0m\u001b[0;34m\u001b[0m\u001b[0;34m\u001b[0m\u001b[0m\n\u001b[0;32m--> 895\u001b[0;31m                 \u001b[0;32mraise\u001b[0m \u001b[0mKeyboardInterrupt\u001b[0m\u001b[0;34m(\u001b[0m\u001b[0;34m\"Interrupted by user\"\u001b[0m\u001b[0;34m)\u001b[0m \u001b[0;32mfrom\u001b[0m \u001b[0;32mNone\u001b[0m\u001b[0;34m\u001b[0m\u001b[0;34m\u001b[0m\u001b[0m\n\u001b[0m\u001b[1;32m    896\u001b[0m             \u001b[0;32mexcept\u001b[0m \u001b[0mException\u001b[0m \u001b[0;32mas\u001b[0m \u001b[0me\u001b[0m\u001b[0;34m:\u001b[0m\u001b[0;34m\u001b[0m\u001b[0;34m\u001b[0m\u001b[0m\n\u001b[1;32m    897\u001b[0m                 \u001b[0mself\u001b[0m\u001b[0;34m.\u001b[0m\u001b[0mlog\u001b[0m\u001b[0;34m.\u001b[0m\u001b[0mwarning\u001b[0m\u001b[0;34m(\u001b[0m\u001b[0;34m\"Invalid Message:\"\u001b[0m\u001b[0;34m,\u001b[0m \u001b[0mexc_info\u001b[0m\u001b[0;34m=\u001b[0m\u001b[0;32mTrue\u001b[0m\u001b[0;34m)\u001b[0m\u001b[0;34m\u001b[0m\u001b[0;34m\u001b[0m\u001b[0m\n",
            "\u001b[0;31mKeyboardInterrupt\u001b[0m: Interrupted by user"
          ]
        }
      ]
    },
    {
      "cell_type": "markdown",
      "source": [
        "positivo o negativo"
      ],
      "metadata": {
        "id": "R6uByrY1KKcV"
      }
    },
    {
      "cell_type": "code",
      "source": [
        "numero = int(input(\"Ingresa un numero: \"))\n",
        "if numero>0:\n",
        "  print(\"Positivo\")\n",
        "else:\n",
        "  print(\"Negativo\")"
      ],
      "metadata": {
        "id": "5yQaFusgKKB8",
        "outputId": "034d180c-76a0-4944-fdb0-84cc3979ca0a",
        "colab": {
          "base_uri": "https://localhost:8080/"
        }
      },
      "execution_count": null,
      "outputs": [
        {
          "output_type": "stream",
          "name": "stdout",
          "text": [
            "Ingresa un numero: -5\n",
            "Negativo\n"
          ]
        }
      ]
    },
    {
      "cell_type": "markdown",
      "source": [
        "Solicitar tabla de multiplicar"
      ],
      "metadata": {
        "id": "A0a8VXx3Otal"
      }
    },
    {
      "cell_type": "code",
      "source": [
        "continuar=\"s\"\n",
        "while continuar==\"s\":\n",
        "  tabla = int(input(\"Tabla: \"))\n",
        "  for i in range(1,11):\n",
        "    print(tabla, \"x\", i, \"=\", tabla*i)\n",
        "  continuar = input(\"continuar s, sino cualquier tecla: \")"
      ],
      "metadata": {
        "id": "n_XoAqgVOxF_",
        "outputId": "97333087-571e-400e-9107-e1454de862bc",
        "colab": {
          "base_uri": "https://localhost:8080/"
        }
      },
      "execution_count": null,
      "outputs": [
        {
          "name": "stdout",
          "output_type": "stream",
          "text": [
            "Tabla: 34\n",
            "34 x 1 = 34\n",
            "34 x 2 = 68\n",
            "34 x 3 = 102\n",
            "34 x 4 = 136\n",
            "34 x 5 = 170\n",
            "34 x 6 = 204\n",
            "34 x 7 = 238\n",
            "34 x 8 = 272\n",
            "34 x 9 = 306\n",
            "34 x 10 = 340\n",
            "continuar s, sino cualquier tecla: e\n"
          ]
        }
      ]
    },
    {
      "cell_type": "code",
      "source": [
        "def calcularVarianza(numeros):\n",
        "\n",
        "  n = len(numeros)\n",
        "  media = sum(numeros) / n\n",
        "\n",
        "  sumaCuadradosDif = sum((x - media)**2 for x in numeros)\n",
        "\n",
        "  varianza = sumaCuadradosDif / n\n",
        "\n",
        "  return varianza\n",
        "\n",
        "numerosStr = input(\"Ingrese los números: \")\n",
        "\n",
        "numeros = [float(num) for num in numerosStr.split()]\n",
        "\n",
        "varianza = calcularVarianza(numeros)\n",
        "print(\"La varianza es:\", varianza)"
      ],
      "metadata": {
        "id": "Gsnr2VFBm62e",
        "outputId": "fafdea87-2511-4b72-9936-a46b42454012",
        "colab": {
          "base_uri": "https://localhost:8080/"
        }
      },
      "execution_count": 16,
      "outputs": [
        {
          "output_type": "stream",
          "name": "stdout",
          "text": [
            "Ingrese los números: 1 2 3 4 5 6\n",
            "La varianza es: 2.9166666666666665\n"
          ]
        }
      ]
    },
    {
      "cell_type": "code",
      "source": [
        "from collections import Counter\n",
        "\n",
        "def calcular_frecuencias(numeros):\n",
        "    conteo = Counter(numeros)\n",
        "    return conteo\n",
        "\n",
        "numeros_str = input(\"Ingrese los números separados por espacios: \")\n",
        "\n",
        "numeros = [int(num) for num in numeros_str.split()]\n",
        "\n",
        "frecuencias = calcular_frecuencias(numeros)\n",
        "\n",
        "print(\"Frecuencias de los números:\")\n",
        "for numero, frecuencia in frecuencias.items():\n",
        "    print(f\"{numero}: {frecuencia} veces\")"
      ],
      "metadata": {
        "id": "XJ8NYiV9oE8X",
        "outputId": "a05ff006-4641-4519-afc4-c8e1c7cfb2ee",
        "colab": {
          "base_uri": "https://localhost:8080/"
        }
      },
      "execution_count": 18,
      "outputs": [
        {
          "output_type": "stream",
          "name": "stdout",
          "text": [
            "Ingrese los números separados por espacios: 2 2 3 4 5 6 6\n",
            "Frecuencias de los números:\n",
            "2: 2 veces\n",
            "3: 1 veces\n",
            "4: 1 veces\n",
            "5: 1 veces\n",
            "6: 2 veces\n"
          ]
        }
      ]
    },
    {
      "cell_type": "code",
      "source": [
        "def es_palindromo(palabra):\n",
        "  palabra = palabra.lower()\n",
        "\n",
        "  palabra = ''.join(char for char in palabra if char.isalnum())\n",
        "\n",
        "  palabra_invertida = palabra[::-1]\n",
        "\n",
        "  return palabra == palabra_invertida\n",
        "\n",
        "palabra = input(\"Ingrese una palabra: \")\n",
        "\n",
        "if es_palindromo(palabra):\n",
        "  print(\"La palabra\", palabra, \"es un palíndromo.\")\n",
        "else:\n",
        "  print(\"La palabra\", palabra, \"no es un palíndromo.\")"
      ],
      "metadata": {
        "id": "3zK77Npjo4vV",
        "outputId": "84820af2-5bee-4575-d331-c6dc120d6eeb",
        "colab": {
          "base_uri": "https://localhost:8080/"
        }
      },
      "execution_count": 27,
      "outputs": [
        {
          "output_type": "stream",
          "name": "stdout",
          "text": [
            "Ingrese una palabra: omar\n",
            "La palabra omar no es un palíndromo.\n"
          ]
        }
      ]
    }
  ]
}